{
 "cells": [
  {
   "cell_type": "markdown",
   "metadata": {},
   "source": [
    "### This is the basic idea and code snippets of our MWPM decoder.\n",
    "first need to set some parameter for algorithm"
   ]
  },
  {
   "cell_type": "code",
   "execution_count": null,
   "metadata": {},
   "outputs": [],
   "source": [
    "p_x = 0.05\n",
    "p_y = 0.05\n",
    "p_z = 0.05\n",
    "local_search_m = 25 # the maximun degree when apply local dijkstra to build syndrome graph"
   ]
  },
  {
   "cell_type": "markdown",
   "metadata": {},
   "source": [
    "#### 1. Read the testpoint"
   ]
  },
  {
   "cell_type": "code",
   "execution_count": 1,
   "metadata": {},
   "outputs": [],
   "source": [
    "import numpy as np\n",
    "\n",
    "# error_x, error_z, syndrome_x, syndrome_z,sizeX,sizeY = read_test_file('test_file.npz')\n",
    "def read_test_file(filename):\n",
    "    file_path = \"../code/data/input/\" + filename\n",
    "    data = np.load(file_path, allow_pickle=True)\n",
    "    file_content = data['arr_0'].item()\n",
    "    return file_content[\"sizeX\"], file_content[\"sizeY\"] ,file_content[\"syndrome_x\"], file_content[\"syndrome_z\"]\n",
    "\n",
    "def write_result_file(consume_time,correct_x,correct_z,filename):\n",
    "    file_content = {\n",
    "        \"time\": consume_time,\n",
    "        \"correct_x\":correct_x,\n",
    "        \"correct_z\":correct_z,\n",
    "    }\n",
    "    np.savez(\"../code/data/output/\"+filename, file_content)\n",
    "    return file_content\n",
    "\n",
    "sizeX,sizeY,syndrome_x,syndrome_z = read_test_file('test1.npz')"
   ]
  },
  {
   "cell_type": "markdown",
   "metadata": {},
   "source": [
    "#### 2. Build Matching graph\n",
    "apply weight to every qubit like this:\n",
    "$\n",
    "w_i = \\log\\left(\\frac{1 - p_i}{p_i}\\right)\n",
    "$\n",
    "\n",
    "where $p_i$ is the physical error probability of ith qubit. So here generate all weight first.\n"
   ]
  },
  {
   "cell_type": "code",
   "execution_count": null,
   "metadata": {},
   "outputs": [],
   "source": [
    "# generate weight matrix for every qubit, the error rate of Z\n",
    "weight_mat = np.full((sizeY*2,sizeX),p_z+p_y)"
   ]
  },
  {
   "cell_type": "markdown",
   "metadata": {},
   "source": [
    "#### 3. Build Syndrome graph\n",
    "\n",
    "using dijkstra / local dijkstra to build a syndrome graph\n",
    "\n",
    "\n",
    "because we will use dijkstra algorithm also in blossom algorithm, so build linked_list for syndrome graph"
   ]
  },
  {
   "cell_type": "code",
   "execution_count": null,
   "metadata": {},
   "outputs": [],
   "source": []
  },
  {
   "cell_type": "markdown",
   "metadata": {},
   "source": [
    "#### 4. Blossom\n",
    "use blossom algorithm to find perfect matching"
   ]
  },
  {
   "cell_type": "code",
   "execution_count": null,
   "metadata": {},
   "outputs": [],
   "source": []
  },
  {
   "cell_type": "markdown",
   "metadata": {},
   "source": [
    "#### 5. output correct graph\n",
    "Need to output every edge(sizeX\\*sizeY\\*2) on the matching graph, tell whether we detect error there."
   ]
  },
  {
   "cell_type": "code",
   "execution_count": null,
   "metadata": {},
   "outputs": [],
   "source": []
  }
 ],
 "metadata": {
  "kernelspec": {
   "display_name": "base",
   "language": "python",
   "name": "python3"
  },
  "language_info": {
   "codemirror_mode": {
    "name": "ipython",
    "version": 3
   },
   "file_extension": ".py",
   "mimetype": "text/x-python",
   "name": "python",
   "nbconvert_exporter": "python",
   "pygments_lexer": "ipython3",
   "version": "3.11.7"
  }
 },
 "nbformat": 4,
 "nbformat_minor": 2
}
