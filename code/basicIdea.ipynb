{
 "cells": [
  {
   "cell_type": "markdown",
   "metadata": {},
   "source": [
    "### This is the basic idea and code snippets of our MWPM decoder."
   ]
  },
  {
   "cell_type": "markdown",
   "metadata": {},
   "source": [
    "#### 1. Read the testpoint"
   ]
  },
  {
   "cell_type": "code",
   "execution_count": 1,
   "metadata": {},
   "outputs": [
    {
     "name": "stdout",
     "output_type": "stream",
     "text": [
      "5 5\n"
     ]
    }
   ],
   "source": [
    "import numpy as np\n",
    "\n",
    "# error_x, error_z, syndrome_x, syndrome_z,sizeX,sizeY = read_test_file('test_file.npz')\n",
    "def read_test_file(filename):\n",
    "    file_path = \"../code/data/input/\" + filename\n",
    "    data = np.load(file_path, allow_pickle=True)\n",
    "    file_content = data['arr_0'].item()\n",
    "    return file_content[\"sizeX\"], file_content[\"sizeY\"] ,file_content[\"syndrome_x\"], file_content[\"syndrome_z\"]\n",
    "\n",
    "def write_result_file(consume_time,correct_x,correct_z,filename):\n",
    "    file_content = {\n",
    "        \"time\": consume_time,\n",
    "        \"correct_x\":correct_x,\n",
    "        \"correct_z\":correct_z,\n",
    "    }\n",
    "    np.savez(\"../code/data/output/\"+filename, file_content)\n",
    "    return file_content\n",
    "\n",
    "X,Y,synX,synZ = read_test_file('test1.npz')"
   ]
  },
  {
   "cell_type": "markdown",
   "metadata": {},
   "source": [
    "#### 2. Build Matching graph\n",
    "\n",
    "because we will use dijkstra algorithm to connect different defect point, so first in the matching graph we need to make syndrome inputable for dijkstra."
   ]
  },
  {
   "cell_type": "code",
   "execution_count": null,
   "metadata": {},
   "outputs": [],
   "source": []
  },
  {
   "cell_type": "markdown",
   "metadata": {},
   "source": [
    "#### 3. Build Syndrome graph\n",
    "\n",
    "using dijkstra / localdijkstra to build a syndrome graph"
   ]
  },
  {
   "cell_type": "code",
   "execution_count": null,
   "metadata": {},
   "outputs": [],
   "source": []
  },
  {
   "cell_type": "markdown",
   "metadata": {},
   "source": [
    "#### 4. Blossom\n",
    "use blossom algorithm to find perfect matching"
   ]
  },
  {
   "cell_type": "code",
   "execution_count": null,
   "metadata": {},
   "outputs": [],
   "source": []
  },
  {
   "cell_type": "markdown",
   "metadata": {},
   "source": [
    "#### 5. output correct graph\n",
    "Need to output every edge(sizeX\\*sizeY\\*2) on the matching graph, tell whether we detect error there."
   ]
  },
  {
   "cell_type": "code",
   "execution_count": null,
   "metadata": {},
   "outputs": [],
   "source": []
  }
 ],
 "metadata": {
  "kernelspec": {
   "display_name": "base",
   "language": "python",
   "name": "python3"
  },
  "language_info": {
   "codemirror_mode": {
    "name": "ipython",
    "version": 3
   },
   "file_extension": ".py",
   "mimetype": "text/x-python",
   "name": "python",
   "nbconvert_exporter": "python",
   "pygments_lexer": "ipython3",
   "version": "3.11.7"
  }
 },
 "nbformat": 4,
 "nbformat_minor": 2
}
