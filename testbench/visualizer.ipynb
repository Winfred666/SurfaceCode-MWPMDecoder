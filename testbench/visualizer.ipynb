{
 "cells": [
  {
   "cell_type": "markdown",
   "metadata": {},
   "source": [
    "### Visualizer of result\n",
    "\n",
    "To measure the performance of surface code decoder, there are two aspects:\n",
    "1. Case of result\n",
    "2. Error threshold\n",
    "3. Time complexity\n",
    "\n",
    "So does MWPM decoder. In this part we will try to visualize the decode effect of our implement together with decoder from  `PyMatch` lib."
   ]
  },
  {
   "cell_type": "markdown",
   "metadata": {},
   "source": [
    "#### 1. Result Analysis"
   ]
  },
  {
   "cell_type": "code",
   "execution_count": 3,
   "metadata": {},
   "outputs": [],
   "source": [
    "# read the result from the file and print the result\n",
    "import numpy as np\n",
    "\n",
    "# error_x, error_z, syndrome_x, syndrome_z,sizeX,sizeY = read_test_file('test_file.npz')\n",
    "def read_test_file(filename):\n",
    "    file_path = \"../code/data/input/\" + filename\n",
    "    data = np.load(file_path, allow_pickle=True)\n",
    "    file_content = data['arr_0'].item()\n",
    "    return file_content\n",
    "\n",
    "# consume_time, correct_x, correct_z = read_result_file('result_file.npz')\n",
    "def read_result_file(filename):\n",
    "    file_path = \"../code/data/output/\" + filename\n",
    "    data = np.load(file_path, allow_pickle=True)\n",
    "    file_content = data['arr_0'].item()\n",
    "    return file_content"
   ]
  },
  {
   "cell_type": "code",
   "execution_count": 4,
   "metadata": {},
   "outputs": [],
   "source": [
    "import matplotlib.pyplot as plt\n",
    "import matplotlib.lines as mlines\n",
    "import matplotlib.patches as patches\n",
    "\n",
    "def commonconfig(sizeX,sizeY):\n",
    "    plt.figure(figsize=(4, 4))\n",
    "    plt.xlim(-0.5, sizeX-0.5)\n",
    "    plt.ylim(-0.5, sizeY-0.5)\n",
    "    #add a black point at every vertex of grid\n",
    "    for y in range(sizeY):\n",
    "        for x in range(sizeX):\n",
    "            plt.plot(x, y, 'ko', markersize=3)  # Black dot for vertex\n",
    "    ax = plt.gca()\n",
    "    # Enable the grid\n",
    "    ax.grid(True)\n",
    "    # Hide the tick labels on both axes while keeping the grid\n",
    "    ax.tick_params(axis='x', labelbottom=False)\n",
    "    ax.tick_params(axis='y', labelleft=False)\n",
    "    ax.set_aspect('equal', adjustable='box')  # Set aspect ratio\n",
    "\n",
    "def plot_lattice(test_content,sizeX,sizeY):\n",
    "    commonconfig(sizeX,sizeY)\n",
    "    colorTable = ['k-','b-','r-','g-']\n",
    "    for y in range(sizeY*2):\n",
    "        for x in range(sizeX):\n",
    "            result = test_content[\"error_x\"][y,x] + test_content[\"error_z\"][y,x]*2\n",
    "            if(result == 0):\n",
    "                continue\n",
    "            ypos = y//2\n",
    "            if(y%2 == 0):\n",
    "                #it's a vertical line\n",
    "                #when reach vertical boundary, draw a line that 1/2 at start and 1/2 at end\n",
    "                if(y == 0):\n",
    "                    plt.plot([x, x], [-0.5, 0], colorTable[result], linewidth=2)\n",
    "                    plt.plot([x, x], [sizeY-1,sizeY-0.5], colorTable[result], linewidth=2)\n",
    "                else:\n",
    "                    plt.plot([x, x], [ypos-1, ypos], colorTable[result], linewidth=2)\n",
    "            else:\n",
    "                #it's a horizontal line\n",
    "                #when reach horizontal boundary, draw a line that 1/2 at start and 1/2 at end\n",
    "                if(x == 0):\n",
    "                    plt.plot([-0.5, 0], [ypos, ypos], colorTable[result], linewidth=2)\n",
    "                    plt.plot([sizeX-1, sizeX-0.5], [ypos, ypos], colorTable[result], linewidth=2)\n",
    "                else:\n",
    "                    plt.plot([x-1, x], [ypos, ypos], colorTable[result], linewidth=2)\n",
    "    plt.show()\n",
    "    \n",
    "def plot_syndromes_X(test_content,sizeX,sizeY):\n",
    "    commonconfig(sizeX,sizeY)\n",
    "    \n",
    "    ax = plt.gca()\n",
    "    for y in range(sizeY):\n",
    "        for x in range(sizeX):\n",
    "            if test_content[\"syndrome_x\"][y,x] == 1:\n",
    "                #X syndrome is a shallow blue rectangle that fill the lattice\n",
    "                #when hit boundary, draw a rectangle that 1/2 at start and 1/2 at end\n",
    "                if(x == 0 and y == 0):\n",
    "                    #draw rectangle on four corner\n",
    "                    ax.add_patch(patches.Rectangle((-0.5, -0.5), 0.5, 0.5, edgecolor='none', facecolor='lightblue'))\n",
    "                    ax.add_patch(patches.Rectangle((sizeX-1, -0.5), 0.5, 0.5, edgecolor='none', facecolor='lightblue'))\n",
    "                    ax.add_patch(patches.Rectangle((-0.5, sizeY-1), 0.5, 0.5, edgecolor='none', facecolor='lightblue'))\n",
    "                    ax.add_patch(patches.Rectangle((sizeX-1, sizeY-1), 0.5, 0.5, edgecolor='none', facecolor='lightblue'))\n",
    "                elif(y == 0):\n",
    "                    ax.add_patch(patches.Rectangle((x-1, -0.5), 1, 0.5, edgecolor='none', facecolor='lightblue'))\n",
    "                    ax.add_patch(patches.Rectangle((x-1, sizeY-1), 1, 0.5, edgecolor='none', facecolor='lightblue'))\n",
    "                elif(x == 0):\n",
    "                    ax.add_patch(patches.Rectangle((-0.5, y-1), 0.5, 1, edgecolor='none', facecolor='lightblue'))\n",
    "                    ax.add_patch(patches.Rectangle((sizeX-1, y-1), 0.5, 1, edgecolor='none', facecolor='lightblue'))\n",
    "                else:\n",
    "                    ax.add_patch(patches.Rectangle((x-1, y-1), 1, 1, edgecolor='none', facecolor='lightblue'))\n",
    "                \n",
    "    plt.show()\n",
    "\n",
    "def plot_syndromes_Z(test_content,sizeX,sizeY):\n",
    "    commonconfig(sizeX,sizeY)\n",
    "    for y in range(sizeY):\n",
    "        for x in range(sizeX):\n",
    "            if test_content[\"syndrome_z\"][y,x] == 1:\n",
    "                #Z syndrome is on the vertice, show as a red star point\n",
    "                plt.plot(x, y, 'r*', markersize=8)  # Red star for Z syndrome on vertex\n",
    "\n",
    "    plt.show()\n",
    "\n",
    "def plot_result_Z(test_content,result_content,sizeX,sizeY):\n",
    "    commonconfig(sizeX,sizeY)\n",
    "    for y in range(sizeY):\n",
    "        for x in range(sizeX):\n",
    "            if test_content[\"syndrome_z\"][y,x] == 1:\n",
    "                #Z syndrome is on the vertice, show as a red star point\n",
    "                plt.plot(x, y, 'r*', markersize=8)  # Red star for Z syndrome on vertex\n",
    "    for y in range(sizeY*2):\n",
    "        for x in range(sizeX):\n",
    "            if result_content[\"correct_z\"][y,x] == 1:\n",
    "                ypos = y//2\n",
    "                if(y%2 == 0):\n",
    "                    #it's a vertical line\n",
    "                    #when reach vertical boundary, draw a line that 1/2 at start and 1/2 at end\n",
    "                    if(y == 0):\n",
    "                        plt.plot([x, x], [-0.5, 0], 'r-', linewidth=2)\n",
    "                        plt.plot([x, x], [sizeY-1,sizeY-0.5], 'r-', linewidth=2)\n",
    "                    else:\n",
    "                        plt.plot([x, x], [ypos-1, ypos], 'r-', linewidth=2)\n",
    "                else:\n",
    "                    #it's a horizontal line\n",
    "                    #when reach horizontal boundary, draw a line that 1/2 at start and 1/2 at end\n",
    "                    if(x == 0):\n",
    "                        plt.plot([-0.5, 0], [ypos, ypos], 'r-', linewidth=2)\n",
    "                        plt.plot([sizeX-1, sizeX-0.5], [ypos, ypos], 'r-', linewidth=2)\n",
    "                    else:\n",
    "                        plt.plot([x-1, x], [ypos, ypos], 'r-', linewidth=2)\n",
    "    plt.show()"
   ]
  },
  {
   "cell_type": "code",
   "execution_count": 8,
   "metadata": {},
   "outputs": [
    {
     "name": "stdout",
     "output_type": "stream",
     "text": [
      "lattice with error, green-Y, blue-X, red-Z:\n"
     ]
    },
    {
     "data": {
      "image/png": "[encoded data removed]",
      "text/plain": [
       "<Figure size 400x400 with 1 Axes>"
      ]
     },
     "metadata": {},
     "output_type": "display_data"
    },
    {
     "name": "stdout",
     "output_type": "stream",
     "text": [
      "syndrome X:\n"
     ]
    },
    {
     "data": {
      "image/png": "[encoded data removed]",
      "text/plain": [
       "<Figure size 400x400 with 1 Axes>"
      ]
     },
     "metadata": {},
     "output_type": "display_data"
    },
    {
     "name": "stdout",
     "output_type": "stream",
     "text": [
      "syndrome Z:\n"
     ]
    },
    {
     "data": {
      "image/png": "[encoded data removed]",
      "text/plain": [
       "<Figure size 400x400 with 1 Axes>"
      ]
     },
     "metadata": {},
     "output_type": "display_data"
    },
    {
     "name": "stdout",
     "output_type": "stream",
     "text": [
      "result Z:\n"
     ]
    },
    {
     "data": {
      "image/png": "[encoded data removed]",
      "text/plain": [
       "<Figure size 400x400 with 1 Axes>"
      ]
     },
     "metadata": {},
     "output_type": "display_data"
    }
   ],
   "source": [
    "#now try to read from a file and plot the result\n",
    "test_content = read_test_file('test1.npz')\n",
    "result_content = read_result_file('pymatch1.npz')\n",
    "sizeX = test_content[\"sizeX\"]\n",
    "sizeY = test_content[\"sizeY\"]\n",
    "print(\"lattice with error, green-Y, blue-X, red-Z:\")\n",
    "plot_lattice(test_content,sizeX,sizeY)\n",
    "print(\"syndrome X:\")\n",
    "plot_syndromes_X(test_content,sizeX,sizeY)\n",
    "print(\"syndrome Z:\")\n",
    "plot_syndromes_Z(test_content,sizeX,sizeY)\n",
    "print(\"result Z:\")\n",
    "plot_result_Z(test_content,result_content,sizeX,sizeY)\n"
   ]
  },
  {
   "cell_type": "markdown",
   "metadata": {},
   "source": [
    "#### 2. Error threshold\n",
    "\n",
    "draw line chat and find out when the logical error rate of larger lattice will upper than the small lattice "
   ]
  },
  {
   "cell_type": "code",
   "execution_count": null,
   "metadata": {},
   "outputs": [],
   "source": [
    "import matplotlib.pyplot as plt\n",
    "\n",
    "# Example data\n",
    "x = [0, 1, 2, 3, 4, 5]\n",
    "y1 = [0, 1, 4, 9, 16, 25]\n",
    "y2 = [0, 1, 2, 3, 4, 5]\n",
    "y3 = [0, -1, -2, -3, -4, -5]\n",
    "\n",
    "# Create a figure and axis\n",
    "fig, ax = plt.subplots()\n",
    "\n",
    "# Plot the lines\n",
    "ax.plot(x, y1, label='y = x^2', color='blue', marker='o')\n",
    "ax.plot(x, y2, label='y = x', color='green', marker='s')\n",
    "ax.plot(x, y3, label='y = -x', color='red', marker='^')\n",
    "\n",
    "# Add a title and labels\n",
    "ax.set_title('Multiple Line Chart Example')\n",
    "ax.set_xlabel('X-axis')\n",
    "ax.set_ylabel('Y-axis')\n",
    "\n",
    "# Add a legend\n",
    "ax.legend()\n",
    "\n",
    "# Show the plot\n",
    "plt.show()\n"
   ]
  }
 ],
 "metadata": {
  "kernelspec": {
   "display_name": "base",
   "language": "python",
   "name": "python3"
  },
  "language_info": {
   "codemirror_mode": {
    "name": "ipython",
    "version": 3
   },
   "file_extension": ".py",
   "mimetype": "text/x-python",
   "name": "python",
   "nbconvert_exporter": "python",
   "pygments_lexer": "ipython3",
   "version": "3.11.7"
  }
 },
 "nbformat": 4,
 "nbformat_minor": 2
}
