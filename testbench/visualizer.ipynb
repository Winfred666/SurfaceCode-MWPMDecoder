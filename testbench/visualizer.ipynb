{
 "cells": [
  {
   "cell_type": "markdown",
   "metadata": {},
   "source": [
    "### Visualizer of result\n",
    "\n",
    "To measure the performance of surface code decoder, there are two aspects:\n",
    "1. Error threshold\n",
    "2. Time complexity\n",
    "\n",
    "So does MWPM decoder. In this part we will try to visualize the decode effect of our implement together with decoder from  `PyMatch` lib."
   ]
  }
 ],
 "metadata": {
  "language_info": {
   "name": "python"
  }
 },
 "nbformat": 4,
 "nbformat_minor": 2
}
