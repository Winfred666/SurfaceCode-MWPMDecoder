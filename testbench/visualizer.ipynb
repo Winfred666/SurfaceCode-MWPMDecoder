{
 "cells": [
  {
   "cell_type": "markdown",
   "metadata": {},
   "source": [
    "### Visualizer of result\n",
    "\n",
    "To measure the performance of surface code decoder, there are two aspects:\n",
    "1. Case of result\n",
    "2. Error threshold\n",
    "3. Time complexity\n",
    "\n",
    "So does MWPM decoder. In this part we will try to visualize the decode effect of our implement together with decoder from  `PyMatch` lib."
   ]
  },
  {
   "cell_type": "markdown",
   "metadata": {},
   "source": [
    "#### 1. Result Analysis"
   ]
  },
  {
   "cell_type": "code",
   "execution_count": 173,
   "metadata": {},
   "outputs": [],
   "source": [
    "# read the result from the file and print the result\n",
    "import numpy as np\n",
    "\n",
    "# error_x, error_z, syndrome_x, syndrome_z,sizeX,sizeY = read_test_file('test_file.npz')\n",
    "def read_test_file(filename):\n",
    "    file_path = \"../code/data/input/\" + filename\n",
    "    data = np.load(file_path, allow_pickle=True)\n",
    "    file_content = data['arr_0']\n",
    "    return file_content\n",
    "\n",
    "# consume_time, correct_x, correct_z = read_result_file('result_file.npz')\n",
    "def read_result_file(filename):\n",
    "    file_path = \"../code/data/output/\" + filename\n",
    "    data = np.load(file_path, allow_pickle=True)\n",
    "    file_content = data['arr_0']\n",
    "    return file_content"
   ]
  },
  {
   "cell_type": "code",
   "execution_count": 174,
   "metadata": {},
   "outputs": [],
   "source": [
    "import matplotlib.pyplot as plt\n",
    "import matplotlib.lines as mlines\n",
    "import matplotlib.patches as patches\n",
    "\n",
    "def commonconfig(sizeX,sizeY):\n",
    "    plt.figure(figsize=(4, 4))\n",
    "    plt.xlim(-0.5, sizeX-0.5)\n",
    "    plt.ylim(-0.5, sizeY-0.5)\n",
    "    #add a black point at every vertex of grid\n",
    "    for y in range(sizeY):\n",
    "        for x in range(sizeX):\n",
    "            plt.plot(x, y, 'ko', markersize=3)  # Black dot for vertex\n",
    "    ax = plt.gca()\n",
    "    # Enable the grid\n",
    "    ax.grid(True, linewidth=1)\n",
    "    ax.set_xticks(np.arange(sizeX))\n",
    "    ax.set_yticks(np.arange(sizeY))\n",
    "    # Hide the tick labels on both axes while keeping the grid\n",
    "    ax.tick_params(axis='x', labelbottom=False)\n",
    "    ax.tick_params(axis='y', labelleft=False)\n",
    "    ax.set_aspect('equal', adjustable='box')  # Set aspect ratio\n",
    "\n",
    "def plot_lattice(test_content,sizeX,sizeY,onlyErrorZ=0,plt=plt):\n",
    "    commonconfig(sizeX,sizeY)\n",
    "    colorTable = ['k-','b-','r-','g-']\n",
    "    for y in range(sizeY*2):\n",
    "        for x in range(sizeX):\n",
    "            result = test_content[\"error_x\"][y,x] + test_content[\"error_z\"][y,x]*2\n",
    "            if(onlyErrorZ == 1):\n",
    "                result = test_content[\"error_z\"][y,x]*2\n",
    "            if(result == 0):\n",
    "                continue\n",
    "            ypos = y//2\n",
    "            if(y%2 == 0):\n",
    "                #it's a vertical line\n",
    "                #when reach vertical boundary, draw a line that 1/2 at start and 1/2 at end\n",
    "                if(y == 0):\n",
    "                    plt.plot([x, x], [-0.5, 0], colorTable[result], linewidth=2)\n",
    "                    plt.plot([x, x], [sizeY-1,sizeY-0.5], colorTable[result], linewidth=2)\n",
    "                else:\n",
    "                    plt.plot([x, x], [ypos-1, ypos], colorTable[result], linewidth=2)\n",
    "            else:\n",
    "                #it's a horizontal line\n",
    "                #when reach horizontal boundary, draw a line that 1/2 at start and 1/2 at end\n",
    "                if(x == 0):\n",
    "                    plt.plot([-0.5, 0], [ypos, ypos], colorTable[result], linewidth=2)\n",
    "                    plt.plot([sizeX-1, sizeX-0.5], [ypos, ypos], colorTable[result], linewidth=2)\n",
    "                else:\n",
    "                    plt.plot([x-1, x], [ypos, ypos], colorTable[result], linewidth=2)\n",
    "    plt.show()\n",
    "    \n",
    "def plot_syndromes_X(test_content,sizeX,sizeY):\n",
    "    commonconfig(sizeX,sizeY)\n",
    "    \n",
    "    ax = plt.gca()\n",
    "    for y in range(sizeY):\n",
    "        for x in range(sizeX):\n",
    "            if test_content[\"syndrome_x\"][y,x] == 1:\n",
    "                #X syndrome is a shallow blue rectangle that fill the lattice\n",
    "                #when hit boundary, draw a rectangle that 1/2 at start and 1/2 at end\n",
    "                if(x == 0 and y == 0):\n",
    "                    #draw rectangle on four corner\n",
    "                    ax.add_patch(patches.Rectangle((-0.5, -0.5), 0.5, 0.5, edgecolor='none', facecolor='lightblue'))\n",
    "                    ax.add_patch(patches.Rectangle((sizeX-1, -0.5), 0.5, 0.5, edgecolor='none', facecolor='lightblue'))\n",
    "                    ax.add_patch(patches.Rectangle((-0.5, sizeY-1), 0.5, 0.5, edgecolor='none', facecolor='lightblue'))\n",
    "                    ax.add_patch(patches.Rectangle((sizeX-1, sizeY-1), 0.5, 0.5, edgecolor='none', facecolor='lightblue'))\n",
    "                elif(y == 0):\n",
    "                    ax.add_patch(patches.Rectangle((x-1, -0.5), 1, 0.5, edgecolor='none', facecolor='lightblue'))\n",
    "                    ax.add_patch(patches.Rectangle((x-1, sizeY-1), 1, 0.5, edgecolor='none', facecolor='lightblue'))\n",
    "                elif(x == 0):\n",
    "                    ax.add_patch(patches.Rectangle((-0.5, y-1), 0.5, 1, edgecolor='none', facecolor='lightblue'))\n",
    "                    ax.add_patch(patches.Rectangle((sizeX-1, y-1), 0.5, 1, edgecolor='none', facecolor='lightblue'))\n",
    "                else:\n",
    "                    ax.add_patch(patches.Rectangle((x-1, y-1), 1, 1, edgecolor='none', facecolor='lightblue'))\n",
    "                \n",
    "    plt.show()\n",
    "\n",
    "def plot_syndromes_Z(test_content,sizeX,sizeY,plt=plt):\n",
    "    commonconfig(sizeX,sizeY)\n",
    "    for y in range(sizeY):\n",
    "        for x in range(sizeX):\n",
    "            if test_content[\"syndrome_z\"][y,x] == 1:\n",
    "                #Z syndrome is on the vertice, show as a red star point\n",
    "                plt.plot(x, y, 'r*', markersize=8)  # Red star for Z syndrome on vertex\n",
    "\n",
    "    plt.show()\n",
    "\n",
    "def plot_result_Z(test_content,result_content,sizeX,sizeY,plt=plt,visualMatchingAlso=False):\n",
    "    def plot_one_z(z_content):\n",
    "        for y in range(sizeY*2):\n",
    "            for x in range(sizeX):\n",
    "                if z_content[y,x] == 1:\n",
    "                    ypos = y//2\n",
    "                    if(y%2 == 0):\n",
    "                        #it's a vertical line\n",
    "                        #when reach vertical boundary, draw a line that 1/2 at start and 1/2 at end\n",
    "                        if(y == 0):\n",
    "                            plt.plot([x, x], [-0.5, 0], 'r-', linewidth=2)\n",
    "                            plt.plot([x, x], [sizeY-1,sizeY-0.5], 'r-', linewidth=2)\n",
    "                        else:\n",
    "                            plt.plot([x, x], [ypos-1, ypos], 'r-', linewidth=2)\n",
    "                    else:\n",
    "                        #it's a horizontal line\n",
    "                        #when reach horizontal boundary, draw a line that 1/2 at start and 1/2 at end\n",
    "                        if(x == 0):\n",
    "                            plt.plot([-0.5, 0], [ypos, ypos], 'r-', linewidth=2)\n",
    "                            plt.plot([sizeX-1, sizeX-0.5], [ypos, ypos], 'r-', linewidth=2)\n",
    "                        else:\n",
    "                            plt.plot([x-1, x], [ypos, ypos], 'r-', linewidth=2)\n",
    "    if(visualMatchingAlso):\n",
    "        commonconfig(sizeX,sizeY)\n",
    "        for y in range(sizeY):\n",
    "            for x in range(sizeX):\n",
    "                if test_content[\"syndrome_z\"][y,x] == 1:\n",
    "                    #Z syndrome is on the vertice, show as a red star point\n",
    "                    plt.plot(x, y, 'r*', markersize=8)  # Red star for Z syndrome on vertex\n",
    "        plot_one_z(result_content[\"correct_z\"])\n",
    "        plt.show()\n",
    "    commonconfig(sizeX,sizeY)\n",
    "    plot_one_z(result_content[\"correct_z\"] ^ test_content[\"error_z\"])\n",
    "    plt.show()\n"
   ]
  },
  {
   "cell_type": "code",
   "execution_count": 175,
   "metadata": {},
   "outputs": [
    {
     "name": "stdout",
     "output_type": "stream",
     "text": [
      "lattice with error, green-Y, blue-X, red-Z:\n"
     ]
    },
    {
     "data": {
      "image/png": "[encoded data removed]",
      "text/plain": [
       "<Figure size 400x400 with 1 Axes>"
      ]
     },
     "metadata": {},
     "output_type": "display_data"
    },
    {
     "name": "stdout",
     "output_type": "stream",
     "text": [
      "syndrome Z:\n"
     ]
    },
    {
     "data": {
      "image/png": "[encoded data removed]",
      "text/plain": [
       "<Figure size 400x400 with 1 Axes>"
      ]
     },
     "metadata": {},
     "output_type": "display_data"
    },
    {
     "name": "stdout",
     "output_type": "stream",
     "text": [
      "result Z:\n"
     ]
    },
    {
     "data": {
      "image/png": "[encoded data removed]",
      "text/plain": [
       "<Figure size 400x400 with 1 Axes>"
      ]
     },
     "metadata": {},
     "output_type": "display_data"
    },
    {
     "data": {
      "image/png": "[encoded data removed]",
      "text/plain": [
       "<Figure size 400x400 with 1 Axes>"
      ]
     },
     "metadata": {},
     "output_type": "display_data"
    }
   ],
   "source": [
    "#now try to read from a file and plot the result\n",
    "\n",
    "test_num = 500\n",
    "test_batches = 25\n",
    "testset_list = []\n",
    "resultset_list = []\n",
    "for i in range(test_batches):\n",
    "    testset_list.append(read_test_file(\"test\"+str(i)+\".npz\"))\n",
    "    resultset_list.append(read_result_file(\"result\"+str(i)+\".npz\"))\n",
    "\n",
    "batch_index = 12\n",
    "vi = 20\n",
    "print(\"lattice with error, green-Y, blue-X, red-Z:\")\n",
    "plot_lattice(testset_list[batch_index][vi],testset_list[batch_index][vi][\"sizeX\"],testset_list[batch_index][vi][\"sizeY\"])\n",
    "# print(\"syndrome X:\")\n",
    "# plot_syndromes_X(test_list[vi],testset_list[batch_index][vi],testset_list[batch_index][vi])\n",
    "print(\"syndrome Z:\")\n",
    "plot_syndromes_Z(testset_list[batch_index][vi],testset_list[batch_index][vi][\"sizeX\"],testset_list[batch_index][vi][\"sizeY\"])\n",
    "print(\"result Z:\")\n",
    "plot_result_Z(testset_list[batch_index][vi],resultset_list[batch_index][vi],testset_list[batch_index][vi][\"sizeX\"],testset_list[batch_index][vi][\"sizeY\"],visualMatchingAlso=True)\n"
   ]
  },
  {
   "cell_type": "markdown",
   "metadata": {},
   "source": [
    "#### 2. Error threshold\n",
    "\n",
    "draw line chat and find out when the logical error rate of larger lattice will upper than the small lattice.\n",
    "\n",
    "To measure logical error rate, need to calculate the logical state, this can be done easily by parity check."
   ]
  },
  {
   "cell_type": "code",
   "execution_count": 176,
   "metadata": {},
   "outputs": [],
   "source": [
    "\n",
    "from copy import deepcopy\n",
    "# Define logical operator to check for logical errors\n",
    "def logical_opt(lattice):\n",
    "    # Check for logical errors by detecting non-trivial loops\n",
    "    #only check first line of lattice\n",
    "    horizontal_loop = np.sum(lattice[0], axis=0) % 2\n",
    "    vertical_loop = np.sum(lattice[:,0][::2], axis=0) % 2\n",
    "    return np.any(horizontal_loop) or np.any(vertical_loop)\n",
    "\n",
    "def check_error(error_g,correct_g):\n",
    "    if(logical_opt(error_g^correct_g)==0):\n",
    "        return False\n",
    "    return True"
   ]
  },
  {
   "cell_type": "code",
   "execution_count": 179,
   "metadata": {},
   "outputs": [
    {
     "name": "stdout",
     "output_type": "stream",
     "text": [
      "[0.076, 0.11, 0.096, 0.106, 0.138, 0.156, 0.164, 0.15, 0.154, 0.166, 0.18, 0.234, 0.206, 0.218, 0.254, 0.21, 0.238, 0.26, 0.284, 0.322, 0.282, 0.322, 0.324, 0.376, 0.432]\n"
     ]
    }
   ],
   "source": [
    "p_x = np.arange(0.02,0.02+0.032,0.032/25,dtype=float)\n",
    "pymatch_errrate_5 = [0.044, 0.064, 0.062, 0.078, 0.088, 0.102, 0.088, 0.11, 0.128, 0.122, 0.126, 0.116, 0.136, 0.14, 0.166, 0.158, 0.166, 0.202, 0.198, 0.214, 0.232, 0.216, 0.278, 0.226, 0.268]\n",
    "\n",
    "pymatch_errrate_11 = [0.076, 0.11, 0.096, 0.106, 0.138, 0.156, 0.164, 0.15, 0.154, 0.166, 0.18, 0.234, 0.206, 0.218, 0.254, 0.21, 0.238, 0.26, 0.284, 0.322, 0.282, 0.322, 0.324, 0.376, 0.432]\n",
    "# this is place to record error threshold data of pymatching\n",
    "pymatch_errrate_17 = []\n",
    "\n",
    "\n",
    "for ii in range(0,test_batches):\n",
    "    error_num = 0\n",
    "    for i in range(0,test_num):\n",
    "        test_content = testset_list[ii][i]\n",
    "        result_content = resultset_list[ii][i]\n",
    "        if(check_error(test_content[\"error_z\"],result_content[\"correct_z\"])):\n",
    "            error_num+=1\n",
    "    pymatch_errrate_17.append(error_num/test_num)\n",
    "print(pymatch_errrate_17)"
   ]
  },
  {
   "cell_type": "code",
   "execution_count": 178,
   "metadata": {},
   "outputs": [
    {
     "ename": "ValueError",
     "evalue": "x and y must have same first dimension, but have shapes (25,) and (0,)",
     "output_type": "error",
     "traceback": [
      "\u001b[1;31m---------------------------------------------------------------------------\u001b[0m",
      "\u001b[1;31mValueError\u001b[0m                                Traceback (most recent call last)",
      "Cell \u001b[1;32mIn[178], line 7\u001b[0m\n\u001b[0;32m      5\u001b[0m \u001b[38;5;66;03m# Plot the lines\u001b[39;00m\n\u001b[0;32m      6\u001b[0m ax\u001b[38;5;241m.\u001b[39mplot(p_x, pymatch_errrate_5, label\u001b[38;5;241m=\u001b[39m\u001b[38;5;124m'\u001b[39m\u001b[38;5;124mToric 5x5\u001b[39m\u001b[38;5;124m'\u001b[39m, color\u001b[38;5;241m=\u001b[39m\u001b[38;5;124m'\u001b[39m\u001b[38;5;124mblue\u001b[39m\u001b[38;5;124m'\u001b[39m, marker\u001b[38;5;241m=\u001b[39m\u001b[38;5;124m'\u001b[39m\u001b[38;5;124mo\u001b[39m\u001b[38;5;124m'\u001b[39m)\n\u001b[1;32m----> 7\u001b[0m ax\u001b[38;5;241m.\u001b[39mplot(p_x, pymatch_errrate_7, label\u001b[38;5;241m=\u001b[39m\u001b[38;5;124m'\u001b[39m\u001b[38;5;124mToric 7x7\u001b[39m\u001b[38;5;124m'\u001b[39m, color\u001b[38;5;241m=\u001b[39m\u001b[38;5;124m'\u001b[39m\u001b[38;5;124mgreen\u001b[39m\u001b[38;5;124m'\u001b[39m, marker\u001b[38;5;241m=\u001b[39m\u001b[38;5;124m'\u001b[39m\u001b[38;5;124mo\u001b[39m\u001b[38;5;124m'\u001b[39m)\n\u001b[0;32m      8\u001b[0m ax\u001b[38;5;241m.\u001b[39mplot(p_x, pymatch_errrate_9, label\u001b[38;5;241m=\u001b[39m\u001b[38;5;124m'\u001b[39m\u001b[38;5;124mToric 9x9\u001b[39m\u001b[38;5;124m'\u001b[39m, color\u001b[38;5;241m=\u001b[39m\u001b[38;5;124m'\u001b[39m\u001b[38;5;124mred\u001b[39m\u001b[38;5;124m'\u001b[39m, marker\u001b[38;5;241m=\u001b[39m\u001b[38;5;124m'\u001b[39m\u001b[38;5;124mo\u001b[39m\u001b[38;5;124m'\u001b[39m)\n\u001b[0;32m      9\u001b[0m ax\u001b[38;5;241m.\u001b[39mplot(p_x, pymatch_errrate_11, label\u001b[38;5;241m=\u001b[39m\u001b[38;5;124m'\u001b[39m\u001b[38;5;124my = 11x11\u001b[39m\u001b[38;5;124m'\u001b[39m, color\u001b[38;5;241m=\u001b[39m\u001b[38;5;124m'\u001b[39m\u001b[38;5;124morange\u001b[39m\u001b[38;5;124m'\u001b[39m, marker\u001b[38;5;241m=\u001b[39m\u001b[38;5;124m'\u001b[39m\u001b[38;5;124mo\u001b[39m\u001b[38;5;124m'\u001b[39m)\n",
      "File \u001b[1;32mw:\\bigTool\\Anaconda\\Lib\\site-packages\\matplotlib\\axes\\_axes.py:1721\u001b[0m, in \u001b[0;36mAxes.plot\u001b[1;34m(self, scalex, scaley, data, *args, **kwargs)\u001b[0m\n\u001b[0;32m   1478\u001b[0m \u001b[38;5;250m\u001b[39m\u001b[38;5;124;03m\"\"\"\u001b[39;00m\n\u001b[0;32m   1479\u001b[0m \u001b[38;5;124;03mPlot y versus x as lines and/or markers.\u001b[39;00m\n\u001b[0;32m   1480\u001b[0m \n\u001b[1;32m   (...)\u001b[0m\n\u001b[0;32m   1718\u001b[0m \u001b[38;5;124;03m(``'green'``) or hex strings (``'#008000'``).\u001b[39;00m\n\u001b[0;32m   1719\u001b[0m \u001b[38;5;124;03m\"\"\"\u001b[39;00m\n\u001b[0;32m   1720\u001b[0m kwargs \u001b[38;5;241m=\u001b[39m cbook\u001b[38;5;241m.\u001b[39mnormalize_kwargs(kwargs, mlines\u001b[38;5;241m.\u001b[39mLine2D)\n\u001b[1;32m-> 1721\u001b[0m lines \u001b[38;5;241m=\u001b[39m [\u001b[38;5;241m*\u001b[39m\u001b[38;5;28mself\u001b[39m\u001b[38;5;241m.\u001b[39m_get_lines(\u001b[38;5;28mself\u001b[39m, \u001b[38;5;241m*\u001b[39margs, data\u001b[38;5;241m=\u001b[39mdata, \u001b[38;5;241m*\u001b[39m\u001b[38;5;241m*\u001b[39mkwargs)]\n\u001b[0;32m   1722\u001b[0m \u001b[38;5;28;01mfor\u001b[39;00m line \u001b[38;5;129;01min\u001b[39;00m lines:\n\u001b[0;32m   1723\u001b[0m     \u001b[38;5;28mself\u001b[39m\u001b[38;5;241m.\u001b[39madd_line(line)\n",
      "File \u001b[1;32mw:\\bigTool\\Anaconda\\Lib\\site-packages\\matplotlib\\axes\\_base.py:303\u001b[0m, in \u001b[0;36m_process_plot_var_args.__call__\u001b[1;34m(self, axes, data, *args, **kwargs)\u001b[0m\n\u001b[0;32m    301\u001b[0m     this \u001b[38;5;241m+\u001b[39m\u001b[38;5;241m=\u001b[39m args[\u001b[38;5;241m0\u001b[39m],\n\u001b[0;32m    302\u001b[0m     args \u001b[38;5;241m=\u001b[39m args[\u001b[38;5;241m1\u001b[39m:]\n\u001b[1;32m--> 303\u001b[0m \u001b[38;5;28;01myield from\u001b[39;00m \u001b[38;5;28mself\u001b[39m\u001b[38;5;241m.\u001b[39m_plot_args(\n\u001b[0;32m    304\u001b[0m     axes, this, kwargs, ambiguous_fmt_datakey\u001b[38;5;241m=\u001b[39mambiguous_fmt_datakey)\n",
      "File \u001b[1;32mw:\\bigTool\\Anaconda\\Lib\\site-packages\\matplotlib\\axes\\_base.py:499\u001b[0m, in \u001b[0;36m_process_plot_var_args._plot_args\u001b[1;34m(self, axes, tup, kwargs, return_kwargs, ambiguous_fmt_datakey)\u001b[0m\n\u001b[0;32m    496\u001b[0m     axes\u001b[38;5;241m.\u001b[39myaxis\u001b[38;5;241m.\u001b[39mupdate_units(y)\n\u001b[0;32m    498\u001b[0m \u001b[38;5;28;01mif\u001b[39;00m x\u001b[38;5;241m.\u001b[39mshape[\u001b[38;5;241m0\u001b[39m] \u001b[38;5;241m!=\u001b[39m y\u001b[38;5;241m.\u001b[39mshape[\u001b[38;5;241m0\u001b[39m]:\n\u001b[1;32m--> 499\u001b[0m     \u001b[38;5;28;01mraise\u001b[39;00m \u001b[38;5;167;01mValueError\u001b[39;00m(\u001b[38;5;124mf\u001b[39m\u001b[38;5;124m\"\u001b[39m\u001b[38;5;124mx and y must have same first dimension, but \u001b[39m\u001b[38;5;124m\"\u001b[39m\n\u001b[0;32m    500\u001b[0m                      \u001b[38;5;124mf\u001b[39m\u001b[38;5;124m\"\u001b[39m\u001b[38;5;124mhave shapes \u001b[39m\u001b[38;5;132;01m{\u001b[39;00mx\u001b[38;5;241m.\u001b[39mshape\u001b[38;5;132;01m}\u001b[39;00m\u001b[38;5;124m and \u001b[39m\u001b[38;5;132;01m{\u001b[39;00my\u001b[38;5;241m.\u001b[39mshape\u001b[38;5;132;01m}\u001b[39;00m\u001b[38;5;124m\"\u001b[39m)\n\u001b[0;32m    501\u001b[0m \u001b[38;5;28;01mif\u001b[39;00m x\u001b[38;5;241m.\u001b[39mndim \u001b[38;5;241m>\u001b[39m \u001b[38;5;241m2\u001b[39m \u001b[38;5;129;01mor\u001b[39;00m y\u001b[38;5;241m.\u001b[39mndim \u001b[38;5;241m>\u001b[39m \u001b[38;5;241m2\u001b[39m:\n\u001b[0;32m    502\u001b[0m     \u001b[38;5;28;01mraise\u001b[39;00m \u001b[38;5;167;01mValueError\u001b[39;00m(\u001b[38;5;124mf\u001b[39m\u001b[38;5;124m\"\u001b[39m\u001b[38;5;124mx and y can be no greater than 2D, but have \u001b[39m\u001b[38;5;124m\"\u001b[39m\n\u001b[0;32m    503\u001b[0m                      \u001b[38;5;124mf\u001b[39m\u001b[38;5;124m\"\u001b[39m\u001b[38;5;124mshapes \u001b[39m\u001b[38;5;132;01m{\u001b[39;00mx\u001b[38;5;241m.\u001b[39mshape\u001b[38;5;132;01m}\u001b[39;00m\u001b[38;5;124m and \u001b[39m\u001b[38;5;132;01m{\u001b[39;00my\u001b[38;5;241m.\u001b[39mshape\u001b[38;5;132;01m}\u001b[39;00m\u001b[38;5;124m\"\u001b[39m)\n",
      "\u001b[1;31mValueError\u001b[0m: x and y must have same first dimension, but have shapes (25,) and (0,)"
     ]
    },
    {
     "data": {
      "image/png": "[encoded data removed]",
      "text/plain": [
       "<Figure size 640x480 with 1 Axes>"
      ]
     },
     "metadata": {},
     "output_type": "display_data"
    }
   ],
   "source": [
    "import matplotlib.pyplot as plt\n",
    "\n",
    "# Create a figure and axis\n",
    "fig, ax = plt.subplots()\n",
    "# Plot the lines\n",
    "ax.plot(p_x, pymatch_errrate_5, label='Toric 5x5', color='blue', marker='o')\n",
    "ax.plot(p_x, pymatch_errrate_11, label='Toric 11x11', color='green', marker='o')\n",
    "ax.plot(p_x, pymatch_errrate_17, label='Toric 17x17', color='red', marker='o')\n",
    "ax.plot(p_x, pymatch_errrate_23, label='y = 23x23', color='orange', marker='o')\n",
    "\n",
    "# Add a title and labels\n",
    "# ax.set_title('Multiple Line Chart Example')\n",
    "ax.set_xlabel('Physical Error Rate(Depolarizing Noise Model)')\n",
    "ax.set_ylabel('Logical Failure Rate')\n",
    "\n",
    "# Add a legend\n",
    "ax.legend()\n",
    "\n",
    "# Show the plot\n",
    "plt.show()\n"
   ]
  }
 ],
 "metadata": {
  "kernelspec": {
   "display_name": "base",
   "language": "python",
   "name": "python3"
  },
  "language_info": {
   "codemirror_mode": {
    "name": "ipython",
    "version": 3
   },
   "file_extension": ".py",
   "mimetype": "text/x-python",
   "name": "python",
   "nbconvert_exporter": "python",
   "pygments_lexer": "ipython3",
   "version": "3.11.7"
  }
 },
 "nbformat": 4,
 "nbformat_minor": 2
}
