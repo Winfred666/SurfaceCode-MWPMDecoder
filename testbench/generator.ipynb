{
 "cells": [
  {
   "cell_type": "markdown",
   "metadata": {},
   "source": [
    "### Test Generator\n",
    "In this part we generate lattice (graph) and introduce X, Y, Z error using depolarization noisy model, which is more close to real world than the independent model favored by surface code.\n",
    "\n",
    "Here we need to adjust `physical error rate` and `lattice size` to generate different case\n",
    "\n",
    "Beware that lattice size `L` is just the width/height of grid, and L\\*L is not the number of physical qubits. Instead, L\\*L\\*2 will be physical qubit num.\n",
    "\n",
    "To generate `Checking matrix` to fit into `PyMatching` lib, we use special way to translate our surface code into check matrix."
   ]
  },
  {
   "cell_type": "code",
   "execution_count": 105,
   "metadata": {},
   "outputs": [],
   "source": [
    "# Parameters\n",
    "# Lattice size, treat it as a square lattice\n",
    "sizeX = 5\n",
    "sizeY = 5\n",
    "\n",
    "# physical error rate\n",
    "p_x = 0.1\n",
    "p_y = 0.1\n",
    "p_z = 0.1"
   ]
  },
  {
   "cell_type": "markdown",
   "metadata": {},
   "source": [
    "1. firstly let's generate lattice and add error to the qubit."
   ]
  },
  {
   "cell_type": "code",
   "execution_count": 115,
   "metadata": {},
   "outputs": [],
   "source": [
    "import random\n",
    "import numpy as np\n",
    "from enum import Enum\n",
    "from scipy.sparse import csr_matrix\n",
    "\n",
    "# we need encode an 2D EDGE position to 1D index in the vector\n",
    "# REMEMBER: x and y start from 0 !!!\n",
    "# for toric code, always use sizeX*sizeY*2 physical qubits, sizeY*2 row, each row sizeX qubits\n",
    "def encode_2D_to_1D(x, y, sizeX, sizeY):\n",
    "    #throw error if x or y is out of range\n",
    "    if x < 0 or x >= sizeX:\n",
    "        raise ValueError(\"x is out of range\")\n",
    "    if y < 0 or y >= sizeY*2:\n",
    "        raise ValueError(\"y is out of range\")\n",
    "    return x + y*sizeX\n",
    "\n",
    "def decode_1D_to_2D(index, sizeX, sizeY):\n",
    "    #throw error if index is out of range\n",
    "    if index < 0 or index >= sizeX*sizeY*2:\n",
    "        raise ValueError(\"index is out of range\")\n",
    "    return index%sizeX, index//sizeX\n",
    "\n",
    "def initialize_lattice(sizeX,sizeY):\n",
    "    return np.zeros(sizeX*sizeY*2, dtype=int)\n",
    "\n",
    "def introduce_errors(lattice, p_x, p_y, p_z):\n",
    "    #introduce errors to the lattice\n",
    "    error_x = np.zeros(len(lattice),dtype=int)\n",
    "    error_z = np.zeros(len(lattice),dtype=int)\n",
    "    for i in range(len(lattice)):\n",
    "        rand = random.random()\n",
    "        if rand < p_x:\n",
    "            error_x[i] = 1\n",
    "            error_z[i] = 0\n",
    "        elif rand < p_x + p_y:\n",
    "            error_x[i] = 1\n",
    "            error_z[i] = 1\n",
    "        elif rand < p_x + p_y + p_z:\n",
    "            error_x[i] = 0\n",
    "            error_z[i] = 1\n",
    "    return error_z,error_x"
   ]
  },
  {
   "cell_type": "markdown",
   "metadata": {},
   "source": [
    "2. Use surface/toric code model to detect Z and X error using star and plaquettes stablilisers seperately.\n",
    "\n",
    "We firstly build a check_matrix, which can serve as a parity check matrix."
   ]
  },
  {
   "cell_type": "code",
   "execution_count": 116,
   "metadata": {},
   "outputs": [],
   "source": [
    "# here we set that the left and right are smooth boundary, and the bottom and top are rough boundary.\n",
    "def build_check_mat_surface(sizeX,sizeY):\n",
    "    pass\n",
    "# use toric code, consider periodic boundary condition\n",
    "def build_check_mat_toric(sizeX,sizeY):\n",
    "    #first build Z star stabilizer, only odd row have star\n",
    "    Z_check_matrix = []\n",
    "    for y in range(1,sizeY*2,2):\n",
    "        for x in range(0,sizeX):\n",
    "            Z_stab = np.zeros(sizeX*sizeY*2, dtype=int)\n",
    "            Z_stab[encode_2D_to_1D(x,y,sizeX,sizeY)] = \\\n",
    "            Z_stab[encode_2D_to_1D((x+1)%sizeX,y,sizeX,sizeY)] = \\\n",
    "            Z_stab[encode_2D_to_1D(x,y-1,sizeX,sizeY)] = \\\n",
    "            Z_stab[encode_2D_to_1D(x,(y+1)%(sizeY*2),sizeX,sizeY)] = 1\n",
    "            Z_check_matrix.append(Z_stab)\n",
    "    #then build X plaquetee stabilizer\n",
    "    X_check_matrix = []\n",
    "    for y in range(0,sizeY*2,2):\n",
    "        for x in range(0,sizeX):\n",
    "            X_stab = np.zeros(sizeX*sizeY*2, dtype=int)\n",
    "            X_stab[encode_2D_to_1D((x-1)%sizeX,y,sizeX,sizeY)] = \\\n",
    "            X_stab[encode_2D_to_1D(x,y,sizeX,sizeY)] = \\\n",
    "            X_stab[encode_2D_to_1D(x,(y-1)%(sizeY*2),sizeX,sizeY)] = \\\n",
    "            X_stab[encode_2D_to_1D(x,y+1,sizeX,sizeY)] = 1\n",
    "            X_check_matrix.append(X_stab)\n",
    "    #use sparse matrix to save memory\n",
    "    return csr_matrix(Z_check_matrix), csr_matrix(X_check_matrix)\n",
    "\n",
    "def get_syndrome(error_lattice, check_matrix):\n",
    "    #get the syndrome of the error lattice\n",
    "    return check_matrix.dot(error_lattice) % 2\n"
   ]
  },
  {
   "cell_type": "markdown",
   "metadata": {},
   "source": [
    "3. Finally write the syndrome and error lattice to file to finish the generation of testpoint."
   ]
  },
  {
   "cell_type": "code",
   "execution_count": 134,
   "metadata": {},
   "outputs": [],
   "source": [
    "def write_test_file(error_x,error_z, syndrome_X,syndrome_Z ,sizeX, filename):\n",
    "    # turn the error lattice into 2D array, write it to a file\n",
    "    file_content = {\n",
    "        #error_x and z is for correct answer,\n",
    "        \"error_x\":error_x.reshape(-1,sizeX),\n",
    "        \"error_z\":error_z.reshape(-1,sizeX),\n",
    "        #syndrome_x and syndrome_z is for the input of the decoder\n",
    "        \"syndrome_x\":syndrome_X.reshape(-1,sizeX),\n",
    "        \"syndrome_z\":syndrome_Z.reshape(-1,sizeX)\n",
    "    }\n",
    "    np.savez(\"../code/data/input/\"+filename, file_content)\n",
    "    return file_content\n",
    "\n",
    "def write_result_file(consume_time,correct_x,correct_z,filename):\n",
    "    file_content = {\n",
    "        \"time\": consume_time,\n",
    "        \"correct_x\":correct_x,\n",
    "        \"correct_z\":correct_z\n",
    "    }\n",
    "    np.savez(\"../code/data/output/\"+filename, file_content)\n",
    "    return file_content\n"
   ]
  },
  {
   "cell_type": "markdown",
   "metadata": {},
   "source": [
    "Remember that original lattice and syndromes both need writing out, because we need to visualize the logical error rate in \"visualizer\" part."
   ]
  },
  {
   "cell_type": "code",
   "execution_count": 135,
   "metadata": {},
   "outputs": [],
   "source": [
    "# Initialize and introduce errors\n",
    "lattice = initialize_lattice(sizeX, sizeY)\n",
    "# get check matrix for stabilisers\n",
    "z_check_mat, x_check_mat = build_check_mat_toric(sizeX,sizeY)\n",
    "\n",
    "# introduce error\n",
    "error_z,error_x = introduce_errors(lattice, p_x, p_y, p_z)\n",
    "\n",
    "# get syndrome\n",
    "syndrome_Z = get_syndrome(error_z,z_check_mat)\n",
    "syndrome_X = get_syndrome(error_x,x_check_mat)\n",
    "\n",
    "#now make the lattice and syndrome into 2D array and save them\n",
    "test_content = write_test_file(error_x,error_z, syndrome_X,syndrome_Z ,sizeX,\"test1.npz\")"
   ]
  },
  {
   "cell_type": "markdown",
   "metadata": {},
   "source": [
    "4. Now that we have check matrix, using pymatch to generate result here."
   ]
  },
  {
   "cell_type": "code",
   "execution_count": 130,
   "metadata": {},
   "outputs": [
    {
     "name": "stdout",
     "output_type": "stream",
     "text": [
      "consume time:  0.0030012130737304688\n",
      "decoder result Z:  [0 0 0 0 0 0 0 0 0 0 1 1 0 0 0 0 0 0 1 0 0 0 0 0 0 0 0 0 0 0 0 0 1 0 0 0 0\n",
      " 0 0 0 1 0 0 0 0 0 0 0 0 1]\n"
     ]
    }
   ],
   "source": [
    "# now since that check_matrix is here, use pymarching lib to get all the statistic\n",
    "from pymatching import Matching\n",
    "import time\n",
    "\n",
    "#set up a timer\n",
    "start_time = time.time()\n",
    "# get the matching graph\n",
    "decoder_result_Z = Matching(z_check_mat).decode(syndrome_Z)\n",
    "decoder_result_X = Matching(x_check_mat).decode(syndrome_X)\n",
    "#different syndrome simply mean different code type, like edged surface, toric.\n",
    "consume_time = time.time() - start_time\n",
    "print(\"consume time: \", consume_time)\n",
    "print(\"decoder result Z: \", decoder_result_Z)\n",
    "# write_result_file(consume_time,decoder_result_X,decoder_result_Z,\"pymatch1.npz\")"
   ]
  },
  {
   "cell_type": "code",
   "execution_count": 159,
   "metadata": {},
   "outputs": [],
   "source": [
    "import matplotlib.pyplot as plt\n",
    "import matplotlib.lines as mlines\n",
    "import matplotlib.patches as patches\n",
    "\n",
    "def commonconfig(sizeX,sizeY):\n",
    "    plt.figure(figsize=(4, 4))\n",
    "    plt.xlim(-0.5, sizeX)\n",
    "    plt.ylim(-0.5, sizeY)\n",
    "    #add a black point at every vertex of grid\n",
    "    for y in range(sizeY):\n",
    "        for x in range(sizeX):\n",
    "            plt.plot(x, y, 'ko', markersize=5)  # Black dot for vertex\n",
    "    ax = plt.gca()\n",
    "    # Enable the grid\n",
    "    ax.grid(True)\n",
    "    # Hide the tick labels on both axes while keeping the grid\n",
    "    ax.tick_params(axis='x', labelbottom=False)\n",
    "    ax.tick_params(axis='y', labelleft=False)\n",
    "    ax.set_aspect('equal', adjustable='box')  # Set aspect ratio\n",
    "\n",
    "def plot_lattice(test_content,sizeX,sizeY):\n",
    "    commonconfig(sizeX,sizeY)\n",
    "    colorTable = ['k-','b-','r-','g-']\n",
    "    for y in range(sizeY*2):\n",
    "        for x in range(sizeX):\n",
    "            result = test_content[\"error_x\"][y,x] + test_content[\"error_z\"][y,x]*2\n",
    "            if(result == 0):\n",
    "                continue\n",
    "            ypos = y//2\n",
    "            if(y%2 == 0):\n",
    "                #it's a vertical line\n",
    "                #when reach vertical boundary, draw a line that 1/2 at start and 1/2 at end\n",
    "                if(y == 0):\n",
    "                    plt.plot([x, x], [-0.5, 0], colorTable[result], linewidth=2)\n",
    "                    plt.plot([x, x], [sizeY-0.5,sizeY], colorTable[result], linewidth=2)\n",
    "                else:\n",
    "                    plt.plot([x, x], [ypos-1, ypos], colorTable[result], linewidth=2)\n",
    "            else:\n",
    "                #it's a horizontal line\n",
    "                #when reach horizontal boundary, draw a line that 1/2 at start and 1/2 at end\n",
    "                if(x == 0):\n",
    "                    plt.plot([-0.5, 0], [ypos, ypos], colorTable[result], linewidth=2)\n",
    "                    plt.plot([sizeX-0.5, sizeX], [ypos, ypos], colorTable[result], linewidth=2)\n",
    "                else:\n",
    "                    plt.plot([x-1, x], [ypos, ypos], colorTable[result], linewidth=2)\n",
    "                \n",
    "                \n",
    "    # add legend that different color line reprecent different error type\n",
    "    # blue_line = mlines.Line2D([], [], color='blue', marker='o', markersize=5, label='X error')\n",
    "    # green_line = mlines.Line2D([], [], color='green', marker='o', markersize=5, label='Y error')\n",
    "    # red_line = mlines.Line2D([], [], color='red', marker='o', markersize=5, label='Z error')\n",
    "    # plt.legend(handles=[blue_line, red_line,green_line], loc='upper right')\n",
    "    plt.show()\n",
    "    \n",
    "def plot_syndromes_X(test_content,sizeX,sizeY):\n",
    "    commonconfig(sizeX,sizeY)\n",
    "    ax = plt.gca()\n",
    "    for y in range(sizeY*2):\n",
    "        for x in range(sizeX):\n",
    "            if test_content[\"syndrome_x\"][y,x] == 1:\n",
    "                #X syndrome is a shallow blue rectangle that fill the lattice\n",
    "                ax.add_patch(patches.Rectangle((x-0.5, y//2-0.5), 1, 1, edgecolor='blue', facecolor='none'))\n",
    "    plt.show()\n",
    "\n",
    "def plot_syndromes_Z(test_content,sizeX,sizeY):\n",
    "    commonconfig(sizeX,sizeY)\n",
    "    for y in range(sizeY*2):\n",
    "        for x in range(sizeX):\n",
    "            if test_content[\"syndrome_z\"][y,x] == 1:\n",
    "                #Z syndrome is on the vertice, show as a red star point\n",
    "                if(y%2 == 0):\n",
    "                    #it's a vertical line\n",
    "                    plt.plot(x, y//2, 'r*', markersize=7)  # Red star for Z syndrome on vertex\n",
    "\n",
    "    plt.show()\n"
   ]
  },
  {
   "cell_type": "code",
   "execution_count": 160,
   "metadata": {},
   "outputs": [
    {
     "name": "stdout",
     "output_type": "stream",
     "text": [
      "Lattice with errors:\n",
      "[[0 0 1 0 1]\n",
      " [0 1 0 0 0]\n",
      " [0 1 0 0 1]\n",
      " [1 0 0 1 1]\n",
      " [0 0 1 0 1]\n",
      " [1 1 0 0 0]\n",
      " [0 0 0 0 1]\n",
      " [0 0 0 0 0]\n",
      " [0 1 0 0 0]\n",
      " [1 0 1 0 1]]\n"
     ]
    },
    {
     "data": {
      "image/png": "[encoded data removed]",
      "text/plain": [
       "<Figure size 400x400 with 1 Axes>"
      ]
     },
     "metadata": {},
     "output_type": "display_data"
    },
    {
     "name": "stdout",
     "output_type": "stream",
     "text": [
      "X Syndromes:\n"
     ]
    },
    {
     "ename": "IndexError",
     "evalue": "index 5 is out of bounds for axis 0 with size 5",
     "output_type": "error",
     "traceback": [
      "\u001b[1;31m---------------------------------------------------------------------------\u001b[0m",
      "\u001b[1;31mIndexError\u001b[0m                                Traceback (most recent call last)",
      "Cell \u001b[1;32mIn[160], line 6\u001b[0m\n\u001b[0;32m      3\u001b[0m plot_lattice(test_content,sizeX,sizeY)\n\u001b[0;32m      5\u001b[0m \u001b[38;5;28mprint\u001b[39m(\u001b[38;5;124m\"\u001b[39m\u001b[38;5;124mX Syndromes:\u001b[39m\u001b[38;5;124m\"\u001b[39m)\n\u001b[1;32m----> 6\u001b[0m plot_syndromes_X(test_content,sizeX,sizeY)\n\u001b[0;32m      8\u001b[0m \u001b[38;5;28mprint\u001b[39m(\u001b[38;5;124m\"\u001b[39m\u001b[38;5;124mZ Syndromes:\u001b[39m\u001b[38;5;124m\"\u001b[39m)\n\u001b[0;32m      9\u001b[0m plot_syndromes_Z(test_content,sizeX,sizeY)\n",
      "Cell \u001b[1;32mIn[159], line 60\u001b[0m, in \u001b[0;36mplot_syndromes_X\u001b[1;34m(test_content, sizeX, sizeY)\u001b[0m\n\u001b[0;32m     58\u001b[0m \u001b[38;5;28;01mfor\u001b[39;00m y \u001b[38;5;129;01min\u001b[39;00m \u001b[38;5;28mrange\u001b[39m(sizeY\u001b[38;5;241m*\u001b[39m\u001b[38;5;241m2\u001b[39m):\n\u001b[0;32m     59\u001b[0m     \u001b[38;5;28;01mfor\u001b[39;00m x \u001b[38;5;129;01min\u001b[39;00m \u001b[38;5;28mrange\u001b[39m(sizeX):\n\u001b[1;32m---> 60\u001b[0m         \u001b[38;5;28;01mif\u001b[39;00m test_content[\u001b[38;5;124m\"\u001b[39m\u001b[38;5;124msyndrome_x\u001b[39m\u001b[38;5;124m\"\u001b[39m][y,x] \u001b[38;5;241m==\u001b[39m \u001b[38;5;241m1\u001b[39m:\n\u001b[0;32m     61\u001b[0m             \u001b[38;5;66;03m#X syndrome is a shallow blue rectangle that fill the lattice\u001b[39;00m\n\u001b[0;32m     62\u001b[0m             ax\u001b[38;5;241m.\u001b[39madd_patch(patches\u001b[38;5;241m.\u001b[39mRectangle((x\u001b[38;5;241m-\u001b[39m\u001b[38;5;241m0.5\u001b[39m, y\u001b[38;5;241m/\u001b[39m\u001b[38;5;241m/\u001b[39m\u001b[38;5;241m2\u001b[39m\u001b[38;5;241m-\u001b[39m\u001b[38;5;241m0.5\u001b[39m), \u001b[38;5;241m1\u001b[39m, \u001b[38;5;241m1\u001b[39m, edgecolor\u001b[38;5;241m=\u001b[39m\u001b[38;5;124m'\u001b[39m\u001b[38;5;124mblue\u001b[39m\u001b[38;5;124m'\u001b[39m, facecolor\u001b[38;5;241m=\u001b[39m\u001b[38;5;124m'\u001b[39m\u001b[38;5;124mnone\u001b[39m\u001b[38;5;124m'\u001b[39m))\n\u001b[0;32m     63\u001b[0m plt\u001b[38;5;241m.\u001b[39mshow()\n",
      "\u001b[1;31mIndexError\u001b[0m: index 5 is out of bounds for axis 0 with size 5"
     ]
    },
    {
     "data": {
      "image/png": "[encoded data removed]",
      "text/plain": [
       "<Figure size 400x400 with 1 Axes>"
      ]
     },
     "metadata": {},
     "output_type": "display_data"
    }
   ],
   "source": [
    "\n",
    "print(\"Lattice with errors:\")\n",
    "print(test_content[\"error_x\"])\n",
    "plot_lattice(test_content,sizeX,sizeY)\n",
    "\n",
    "print(\"X Syndromes:\")\n",
    "plot_syndromes_X(test_content,sizeX,sizeY)\n",
    "\n",
    "print(\"Z Syndromes:\")\n",
    "plot_syndromes_Z(test_content,sizeX,sizeY)"
   ]
  }
 ],
 "metadata": {
  "kernelspec": {
   "display_name": "base",
   "language": "python",
   "name": "python3"
  },
  "language_info": {
   "codemirror_mode": {
    "name": "ipython",
    "version": 3
   },
   "file_extension": ".py",
   "mimetype": "text/x-python",
   "name": "python",
   "nbconvert_exporter": "python",
   "pygments_lexer": "ipython3",
   "version": "3.11.7"
  }
 },
 "nbformat": 4,
 "nbformat_minor": 2
}
